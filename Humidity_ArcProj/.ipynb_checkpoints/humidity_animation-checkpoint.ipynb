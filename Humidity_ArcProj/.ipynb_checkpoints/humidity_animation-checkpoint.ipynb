{
 "cells": [
  {
   "cell_type": "markdown",
   "metadata": {},
   "source": [
    "# Chicago 2019 Humidity Animation"
   ]
  },
  {
   "cell_type": "code",
   "execution_count": 3,
   "metadata": {},
   "outputs": [],
   "source": [
    "# import\n",
    "import arcpy\n",
    "from arcpy.sa import *\n",
    "from arcpy.ia import *\n",
    "from arcpy.ga import *\n",
    "import os\n",
    "import pandas as pd\n",
    "import datetime\n",
    "import matplotlib.pyplot as plt\n",
    "%matplotlib inline"
   ]
  },
  {
   "cell_type": "code",
   "execution_count": 4,
   "metadata": {},
   "outputs": [
    {
     "name": "stdout",
     "output_type": "stream",
     "text": [
      "C:\\Users\\laptop\\Desktop\\GIS_Spring_2024\\AoT_Humidity\\Humidity_ArcProj\n"
     ]
    }
   ],
   "source": [
    "# set base path\n",
    "base_path = r\"C:\\Users\\laptop\\Desktop\\GIS_Spring_2024\\AoT_Humidity\\Humidity_ArcProj\"\n",
    "print(base_path)"
   ]
  },
  {
   "cell_type": "markdown",
   "metadata": {},
   "source": [
    "### Create a geodatabase of humidity by week shapefiles"
   ]
  },
  {
   "cell_type": "code",
   "execution_count": 5,
   "metadata": {},
   "outputs": [
    {
     "name": "stdout",
     "output_type": "stream",
     "text": [
      "C:\\Users\\laptop\\Desktop\\GIS_Spring_2024\\AoT_Humidity\\Humidity_ArcProj\\data\n",
      "The envrionment for creating a geodatabase has been set.\n"
     ]
    }
   ],
   "source": [
    "# set workspace for creating geodatabase of shapefiles\n",
    "data_folder = \"data\"\n",
    "data_workspace = os.path.join(base_path, data_folder)\n",
    "print(data_workspace)\n",
    "\n",
    "arcpy.env.workspace = data_workspace\n",
    "arcpy.env.overwriteOutput = True\n",
    "print(\"The envrionment for creating a geodatabase has been set.\")"
   ]
  },
  {
   "cell_type": "code",
   "execution_count": 6,
   "metadata": {},
   "outputs": [
    {
     "name": "stdout",
     "output_type": "stream",
     "text": [
      "The geodatabase humidity_by_week.gdb has been created.\n"
     ]
    }
   ],
   "source": [
    "# set path to new gdb and create new gdb\n",
    "humidity_gdb_name = \"humidity_by_week.gdb\"\n",
    "humidity_gdb_path = os.path.join(data_workspace, humidity_gdb_name)\n",
    "\n",
    "arcpy.CreateFileGDB_management(data_workspace, humidity_gdb_name)\n",
    "print(f\"The geodatabase {humidity_gdb_name} has been created.\")"
   ]
  },
  {
   "cell_type": "code",
   "execution_count": 7,
   "metadata": {},
   "outputs": [
    {
     "name": "stdout",
     "output_type": "stream",
     "text": [
      "The geodatabase humidity_by_week has been created.\n"
     ]
    }
   ],
   "source": [
    "# create a feature dataset in the geodatabase\n",
    "fds = \"humidity_by_week\"\n",
    "fds_path = os.path.join(humidity_gdb_path, fds)\n",
    "coord_ref = arcpy.SpatialReference(4269) #NAD83 CRS\n",
    "arcpy.CreateFeatureDataset_management(humidity_gdb_path, fds, coord_ref)\n",
    "print(f\"The geodatabase {fds} has been created.\")"
   ]
  },
  {
   "cell_type": "code",
   "execution_count": 8,
   "metadata": {},
   "outputs": [
    {
     "name": "stdout",
     "output_type": "stream",
     "text": [
      "['C:\\\\Users\\\\laptop\\\\Desktop\\\\GIS_Spring_2024\\\\AoT_Humidity\\\\Humidity_ArcProj\\\\data\\\\humidity_shapefiles_by_week\\\\week=01\\\\week=01.shp', 'C:\\\\Users\\\\laptop\\\\Desktop\\\\GIS_Spring_2024\\\\AoT_Humidity\\\\Humidity_ArcProj\\\\data\\\\humidity_shapefiles_by_week\\\\week=02\\\\week=02.shp', 'C:\\\\Users\\\\laptop\\\\Desktop\\\\GIS_Spring_2024\\\\AoT_Humidity\\\\Humidity_ArcProj\\\\data\\\\humidity_shapefiles_by_week\\\\week=03\\\\week=03.shp', 'C:\\\\Users\\\\laptop\\\\Desktop\\\\GIS_Spring_2024\\\\AoT_Humidity\\\\Humidity_ArcProj\\\\data\\\\humidity_shapefiles_by_week\\\\week=04\\\\week=04.shp', 'C:\\\\Users\\\\laptop\\\\Desktop\\\\GIS_Spring_2024\\\\AoT_Humidity\\\\Humidity_ArcProj\\\\data\\\\humidity_shapefiles_by_week\\\\week=05\\\\week=05.shp', 'C:\\\\Users\\\\laptop\\\\Desktop\\\\GIS_Spring_2024\\\\AoT_Humidity\\\\Humidity_ArcProj\\\\data\\\\humidity_shapefiles_by_week\\\\week=06\\\\week=06.shp', 'C:\\\\Users\\\\laptop\\\\Desktop\\\\GIS_Spring_2024\\\\AoT_Humidity\\\\Humidity_ArcProj\\\\data\\\\humidity_shapefiles_by_week\\\\week=07\\\\week=07.shp', 'C:\\\\Users\\\\laptop\\\\Desktop\\\\GIS_Spring_2024\\\\AoT_Humidity\\\\Humidity_ArcProj\\\\data\\\\humidity_shapefiles_by_week\\\\week=08\\\\week=08.shp', 'C:\\\\Users\\\\laptop\\\\Desktop\\\\GIS_Spring_2024\\\\AoT_Humidity\\\\Humidity_ArcProj\\\\data\\\\humidity_shapefiles_by_week\\\\week=09\\\\week=09.shp', 'C:\\\\Users\\\\laptop\\\\Desktop\\\\GIS_Spring_2024\\\\AoT_Humidity\\\\Humidity_ArcProj\\\\data\\\\humidity_shapefiles_by_week\\\\week=10\\\\week=10.shp', 'C:\\\\Users\\\\laptop\\\\Desktop\\\\GIS_Spring_2024\\\\AoT_Humidity\\\\Humidity_ArcProj\\\\data\\\\humidity_shapefiles_by_week\\\\week=11\\\\week=11.shp', 'C:\\\\Users\\\\laptop\\\\Desktop\\\\GIS_Spring_2024\\\\AoT_Humidity\\\\Humidity_ArcProj\\\\data\\\\humidity_shapefiles_by_week\\\\week=12\\\\week=12.shp', 'C:\\\\Users\\\\laptop\\\\Desktop\\\\GIS_Spring_2024\\\\AoT_Humidity\\\\Humidity_ArcProj\\\\data\\\\humidity_shapefiles_by_week\\\\week=13\\\\week=13.shp', 'C:\\\\Users\\\\laptop\\\\Desktop\\\\GIS_Spring_2024\\\\AoT_Humidity\\\\Humidity_ArcProj\\\\data\\\\humidity_shapefiles_by_week\\\\week=14\\\\week=14.shp', 'C:\\\\Users\\\\laptop\\\\Desktop\\\\GIS_Spring_2024\\\\AoT_Humidity\\\\Humidity_ArcProj\\\\data\\\\humidity_shapefiles_by_week\\\\week=15\\\\week=15.shp', 'C:\\\\Users\\\\laptop\\\\Desktop\\\\GIS_Spring_2024\\\\AoT_Humidity\\\\Humidity_ArcProj\\\\data\\\\humidity_shapefiles_by_week\\\\week=16\\\\week=16.shp', 'C:\\\\Users\\\\laptop\\\\Desktop\\\\GIS_Spring_2024\\\\AoT_Humidity\\\\Humidity_ArcProj\\\\data\\\\humidity_shapefiles_by_week\\\\week=17\\\\week=17.shp', 'C:\\\\Users\\\\laptop\\\\Desktop\\\\GIS_Spring_2024\\\\AoT_Humidity\\\\Humidity_ArcProj\\\\data\\\\humidity_shapefiles_by_week\\\\week=18\\\\week=18.shp', 'C:\\\\Users\\\\laptop\\\\Desktop\\\\GIS_Spring_2024\\\\AoT_Humidity\\\\Humidity_ArcProj\\\\data\\\\humidity_shapefiles_by_week\\\\week=19\\\\week=19.shp', 'C:\\\\Users\\\\laptop\\\\Desktop\\\\GIS_Spring_2024\\\\AoT_Humidity\\\\Humidity_ArcProj\\\\data\\\\humidity_shapefiles_by_week\\\\week=20\\\\week=20.shp', 'C:\\\\Users\\\\laptop\\\\Desktop\\\\GIS_Spring_2024\\\\AoT_Humidity\\\\Humidity_ArcProj\\\\data\\\\humidity_shapefiles_by_week\\\\week=21\\\\week=21.shp', 'C:\\\\Users\\\\laptop\\\\Desktop\\\\GIS_Spring_2024\\\\AoT_Humidity\\\\Humidity_ArcProj\\\\data\\\\humidity_shapefiles_by_week\\\\week=22\\\\week=22.shp', 'C:\\\\Users\\\\laptop\\\\Desktop\\\\GIS_Spring_2024\\\\AoT_Humidity\\\\Humidity_ArcProj\\\\data\\\\humidity_shapefiles_by_week\\\\week=23\\\\week=23.shp', 'C:\\\\Users\\\\laptop\\\\Desktop\\\\GIS_Spring_2024\\\\AoT_Humidity\\\\Humidity_ArcProj\\\\data\\\\humidity_shapefiles_by_week\\\\week=24\\\\week=24.shp', 'C:\\\\Users\\\\laptop\\\\Desktop\\\\GIS_Spring_2024\\\\AoT_Humidity\\\\Humidity_ArcProj\\\\data\\\\humidity_shapefiles_by_week\\\\week=25\\\\week=25.shp', 'C:\\\\Users\\\\laptop\\\\Desktop\\\\GIS_Spring_2024\\\\AoT_Humidity\\\\Humidity_ArcProj\\\\data\\\\humidity_shapefiles_by_week\\\\week=26\\\\week=26.shp', 'C:\\\\Users\\\\laptop\\\\Desktop\\\\GIS_Spring_2024\\\\AoT_Humidity\\\\Humidity_ArcProj\\\\data\\\\humidity_shapefiles_by_week\\\\week=27\\\\week=27.shp', 'C:\\\\Users\\\\laptop\\\\Desktop\\\\GIS_Spring_2024\\\\AoT_Humidity\\\\Humidity_ArcProj\\\\data\\\\humidity_shapefiles_by_week\\\\week=28\\\\week=28.shp', 'C:\\\\Users\\\\laptop\\\\Desktop\\\\GIS_Spring_2024\\\\AoT_Humidity\\\\Humidity_ArcProj\\\\data\\\\humidity_shapefiles_by_week\\\\week=29\\\\week=29.shp', 'C:\\\\Users\\\\laptop\\\\Desktop\\\\GIS_Spring_2024\\\\AoT_Humidity\\\\Humidity_ArcProj\\\\data\\\\humidity_shapefiles_by_week\\\\week=30\\\\week=30.shp', 'C:\\\\Users\\\\laptop\\\\Desktop\\\\GIS_Spring_2024\\\\AoT_Humidity\\\\Humidity_ArcProj\\\\data\\\\humidity_shapefiles_by_week\\\\week=31\\\\week=31.shp', 'C:\\\\Users\\\\laptop\\\\Desktop\\\\GIS_Spring_2024\\\\AoT_Humidity\\\\Humidity_ArcProj\\\\data\\\\humidity_shapefiles_by_week\\\\week=32\\\\week=32.shp', 'C:\\\\Users\\\\laptop\\\\Desktop\\\\GIS_Spring_2024\\\\AoT_Humidity\\\\Humidity_ArcProj\\\\data\\\\humidity_shapefiles_by_week\\\\week=33\\\\week=33.shp', 'C:\\\\Users\\\\laptop\\\\Desktop\\\\GIS_Spring_2024\\\\AoT_Humidity\\\\Humidity_ArcProj\\\\data\\\\humidity_shapefiles_by_week\\\\week=34\\\\week=34.shp', 'C:\\\\Users\\\\laptop\\\\Desktop\\\\GIS_Spring_2024\\\\AoT_Humidity\\\\Humidity_ArcProj\\\\data\\\\humidity_shapefiles_by_week\\\\week=35\\\\week=35.shp', 'C:\\\\Users\\\\laptop\\\\Desktop\\\\GIS_Spring_2024\\\\AoT_Humidity\\\\Humidity_ArcProj\\\\data\\\\humidity_shapefiles_by_week\\\\week=36\\\\week=36.shp', 'C:\\\\Users\\\\laptop\\\\Desktop\\\\GIS_Spring_2024\\\\AoT_Humidity\\\\Humidity_ArcProj\\\\data\\\\humidity_shapefiles_by_week\\\\week=37\\\\week=37.shp', 'C:\\\\Users\\\\laptop\\\\Desktop\\\\GIS_Spring_2024\\\\AoT_Humidity\\\\Humidity_ArcProj\\\\data\\\\humidity_shapefiles_by_week\\\\week=38\\\\week=38.shp', 'C:\\\\Users\\\\laptop\\\\Desktop\\\\GIS_Spring_2024\\\\AoT_Humidity\\\\Humidity_ArcProj\\\\data\\\\humidity_shapefiles_by_week\\\\week=39\\\\week=39.shp', 'C:\\\\Users\\\\laptop\\\\Desktop\\\\GIS_Spring_2024\\\\AoT_Humidity\\\\Humidity_ArcProj\\\\data\\\\humidity_shapefiles_by_week\\\\week=40\\\\week=40.shp', 'C:\\\\Users\\\\laptop\\\\Desktop\\\\GIS_Spring_2024\\\\AoT_Humidity\\\\Humidity_ArcProj\\\\data\\\\humidity_shapefiles_by_week\\\\week=41\\\\week=41.shp', 'C:\\\\Users\\\\laptop\\\\Desktop\\\\GIS_Spring_2024\\\\AoT_Humidity\\\\Humidity_ArcProj\\\\data\\\\humidity_shapefiles_by_week\\\\week=42\\\\week=42.shp', 'C:\\\\Users\\\\laptop\\\\Desktop\\\\GIS_Spring_2024\\\\AoT_Humidity\\\\Humidity_ArcProj\\\\data\\\\humidity_shapefiles_by_week\\\\week=43\\\\week=43.shp', 'C:\\\\Users\\\\laptop\\\\Desktop\\\\GIS_Spring_2024\\\\AoT_Humidity\\\\Humidity_ArcProj\\\\data\\\\humidity_shapefiles_by_week\\\\week=44\\\\week=44.shp', 'C:\\\\Users\\\\laptop\\\\Desktop\\\\GIS_Spring_2024\\\\AoT_Humidity\\\\Humidity_ArcProj\\\\data\\\\humidity_shapefiles_by_week\\\\week=45\\\\week=45.shp', 'C:\\\\Users\\\\laptop\\\\Desktop\\\\GIS_Spring_2024\\\\AoT_Humidity\\\\Humidity_ArcProj\\\\data\\\\humidity_shapefiles_by_week\\\\week=46\\\\week=46.shp', 'C:\\\\Users\\\\laptop\\\\Desktop\\\\GIS_Spring_2024\\\\AoT_Humidity\\\\Humidity_ArcProj\\\\data\\\\humidity_shapefiles_by_week\\\\week=47\\\\week=47.shp', 'C:\\\\Users\\\\laptop\\\\Desktop\\\\GIS_Spring_2024\\\\AoT_Humidity\\\\Humidity_ArcProj\\\\data\\\\humidity_shapefiles_by_week\\\\week=48\\\\week=48.shp', 'C:\\\\Users\\\\laptop\\\\Desktop\\\\GIS_Spring_2024\\\\AoT_Humidity\\\\Humidity_ArcProj\\\\data\\\\humidity_shapefiles_by_week\\\\week=49\\\\week=49.shp', 'C:\\\\Users\\\\laptop\\\\Desktop\\\\GIS_Spring_2024\\\\AoT_Humidity\\\\Humidity_ArcProj\\\\data\\\\humidity_shapefiles_by_week\\\\week=50\\\\week=50.shp', 'C:\\\\Users\\\\laptop\\\\Desktop\\\\GIS_Spring_2024\\\\AoT_Humidity\\\\Humidity_ArcProj\\\\data\\\\humidity_shapefiles_by_week\\\\week=51\\\\week=51.shp', 'C:\\\\Users\\\\laptop\\\\Desktop\\\\GIS_Spring_2024\\\\AoT_Humidity\\\\Humidity_ArcProj\\\\data\\\\humidity_shapefiles_by_week\\\\week=52\\\\week=52.shp']\n"
     ]
    }
   ],
   "source": [
    "# list all humidity shapefiles in the humidity shapefiles by week folder\n",
    "# humidity shapefiles by week was created using R\n",
    "shp_path = \"humidity_shapefiles_by_week\"\n",
    "shp_paths = os.path.join(data_workspace, shp_path)\n",
    "\n",
    "# function to find and list all humidity shapefiles\n",
    "def list_shapefiles_from_folders(folder):\n",
    "    shapefiles = []\n",
    "    for root, dirs, files in os.walk(folder):\n",
    "        for file in files:\n",
    "            if file.endswith(\".shp\"):\n",
    "                shapefiles.append(os.path.join(root, file))\n",
    "    return shapefiles\n",
    "\n",
    "# check function\n",
    "shp_list = list_shapefiles_from_folders(shp_paths)\n",
    "print(shp_list)"
   ]
  },
  {
   "cell_type": "code",
   "execution_count": 9,
   "metadata": {},
   "outputs": [],
   "source": [
    "# create function to remove bad characters for naming the files when adding them to the geodatabase\n",
    "def remove(string, bad_chars):\n",
    "    for c in bad_chars:\n",
    "        string = string.replace(c, \"\")\n",
    "    return string"
   ]
  },
  {
   "cell_type": "code",
   "execution_count": 10,
   "metadata": {},
   "outputs": [
    {
     "name": "stdout",
     "output_type": "stream",
     "text": [
      "Shapefiles have been copied into the feature dataset.\n"
     ]
    }
   ],
   "source": [
    "# loop through each folder and copy the shapefile to the new fds\n",
    "for root, dirs, files in os.walk(shp_paths):\n",
    "    for folder in dirs:\n",
    "        folder_path = os.path.join(root, folder)\n",
    "        arcpy.env.workspace = folder_path\n",
    "        shapefiles = list_shapefiles_from_folders(folder_path)\n",
    "        for shapefile in shapefiles:\n",
    "            \n",
    "            # extract the name of the shapefile without the extension\n",
    "            name = os.path.splitext(os.path.basename(shapefile))[0]\n",
    "            \n",
    "            # remove invalid characters from name\n",
    "            name = remove(name, \"=\")\n",
    "   \n",
    "            # construct the full path of the output feature class in the geodatabase\n",
    "            out_feature_class = os.path.join(fds_path, name)\n",
    "            \n",
    "            # copy the shapefile into the geodatabase\n",
    "            arcpy.CopyFeatures_management(in_features = shapefile, \n",
    "                                          out_feature_class = out_feature_class)\n",
    "\n",
    "print(\"Shapefiles have been copied into the feature dataset.\")"
   ]
  },
  {
   "cell_type": "markdown",
   "metadata": {},
   "source": [
    "### Pull Chicago city limits layer from ArcOnline and save to data folder"
   ]
  },
  {
   "cell_type": "code",
   "execution_count": 11,
   "metadata": {},
   "outputs": [
    {
     "name": "stdout",
     "output_type": "stream",
     "text": [
      "The geodatabase chicago_boundaries.gdb has been created.\n"
     ]
    }
   ],
   "source": [
    "# set path to new gdb and create new gdb for chicago boundaries\n",
    "chicago_gdb_name = \"chicago_boundaries.gdb\"\n",
    "chicago_gdb_path = os.path.join(data_workspace, chicago_gdb_name)\n",
    "arcpy.CreateFileGDB_management(data_workspace, chicago_gdb_name)\n",
    "print(f\"The geodatabase {chicago_gdb_name} has been created.\")"
   ]
  },
  {
   "cell_type": "code",
   "execution_count": 12,
   "metadata": {},
   "outputs": [
    {
     "name": "stdout",
     "output_type": "stream",
     "text": [
      "C:\\Users\\laptop\\Desktop\\GIS_Spring_2024\\AoT_Humidity\\Humidity_ArcProj\\data\\chicago_boundaries.gdb\\chicago_city_limits.lyrx\n"
     ]
    }
   ],
   "source": [
    "# read in city of chicago layer\n",
    "layer_name = \"chicago_city_limits\"\n",
    "layer_path = \"https://services1.arcgis.com/0MSEUqKaxRlEPj5g/ArcGIS/rest/services/ChicagoCityLimits/FeatureServer/0\"\n",
    "output_layer_file = os.path.join(chicago_gdb_path, layer_name)\n",
    "\n",
    "# make the feature layer\n",
    "arcpy.MakeFeatureLayer_management(layer_path, layer_name)\n",
    "\n",
    "# save the feature layer to chicago boundaries gdb\n",
    "chicago_layer = arcpy.management.SaveToLayerFile(layer_name, output_layer_file)\n",
    "\n",
    "print(chicago_layer)"
   ]
  },
  {
   "cell_type": "markdown",
   "metadata": {},
   "source": [
    "### Interpolate humidity using inverse distance weighted interpolation and default properties"
   ]
  },
  {
   "cell_type": "code",
   "execution_count": 13,
   "metadata": {},
   "outputs": [
    {
     "name": "stdout",
     "output_type": "stream",
     "text": [
      "['week01', 'week02', 'week03', 'week04', 'week05', 'week06', 'week07', 'week08', 'week09', 'week10', 'week11', 'week12', 'week13', 'week14', 'week15', 'week16', 'week17', 'week18', 'week19', 'week20', 'week21', 'week22', 'week23', 'week24', 'week25', 'week26', 'week27', 'week28', 'week29', 'week30', 'week31', 'week32', 'week33', 'week34', 'week35', 'week36', 'week37', 'week38', 'week39', 'week40', 'week41', 'week42', 'week43', 'week44', 'week45', 'week46', 'week47', 'week48', 'week49', 'week50', 'week51', 'week52']\n"
     ]
    }
   ],
   "source": [
    "# list all point layers\n",
    "arcpy.env.workspace = fds_path\n",
    "point_layers = arcpy.ListFeatureClasses()\n",
    "print(point_layers)"
   ]
  },
  {
   "cell_type": "code",
   "execution_count": 14,
   "metadata": {},
   "outputs": [
    {
     "name": "stdout",
     "output_type": "stream",
     "text": [
      "The geodatabase interpolated_humidity_idw_1.gdb has been created.\n"
     ]
    }
   ],
   "source": [
    "# create a new gdb for all interpolated rasters\n",
    "arcpy.env.workspace = data_workspace\n",
    "arcpy.env.overwriteOutput = True\n",
    "\n",
    "# set path to new gdb and create new gdb\n",
    "# idw_1 = inverse distance weighted interpolation using default parameters\n",
    "idw_1_gdb_name = \"interpolated_humidity_idw_1.gdb\"\n",
    "idw_1_gdb_path = os.path.join(data_workspace, idw_1_gdb_name)\n",
    "arcpy.CreateFileGDB_management(data_workspace, idw_1_gdb_name)\n",
    "print(f\"The geodatabase {idw_1_gdb_name} has been created.\")"
   ]
  },
  {
   "cell_type": "code",
   "execution_count": 15,
   "metadata": {},
   "outputs": [
    {
     "name": "stdout",
     "output_type": "stream",
     "text": [
      "C:\\Users\\laptop\\Desktop\\GIS_Spring_2024\\AoT_Humidity\\Humidity_ArcProj\\data\\chicago_boundaries.gdb\\chicago_city_limits.lyrx\n",
      "The extent has been set.\n",
      "The mask has been set.\n"
     ]
    }
   ],
   "source": [
    "# set interpolation environment parameters\n",
    "print(chicago_layer)\n",
    "\n",
    "# set interpolation environment parameters\n",
    "chicago_layer = str(chicago_layer)\n",
    "\n",
    "# set extent to chicago city limits extent\n",
    "arcpy.env.extent = chicago_layer\n",
    "\n",
    "print(\"The extent has been set.\")\n",
    "\n",
    "# set mask to chicago city limits layer\n",
    "arcpy.env.mask = chicago_layer\n",
    "\n",
    "print(\"The mask has been set.\")"
   ]
  },
  {
   "cell_type": "code",
   "execution_count": 16,
   "metadata": {},
   "outputs": [
    {
     "name": "stdout",
     "output_type": "stream",
     "text": [
      "Humidity has been interpolated.\n"
     ]
    }
   ],
   "source": [
    "# interpolate humidity by week using inverse distance weighted interpolation and default parameters\n",
    "for point_layer in point_layers:\n",
    "    # get path to each point layer\n",
    "    point_layer_path = os.path.join(fds_path, point_layer)\n",
    "    \n",
    "    # set variables for idw interpolation\n",
    "    inPointFeatures = point_layer_path\n",
    "    zField = \"avg_hmd\"\n",
    "    \n",
    "    # execulte idw\n",
    "    outIDW = Idw(inPointFeatures, zField)\n",
    "    \n",
    "    # set output path to interpolated points gdb\n",
    "    raster_name = \"{}_idw\".format(os.path.splitext(point_layer)[0])\n",
    "    output_path = os.path.join(idw_1_gdb_path, raster_name)\n",
    "\n",
    "    # save idw raster\n",
    "    outIDW.save(output_path)\n",
    "    \n",
    "print(\"Humidity has been interpolated.\")"
   ]
  },
  {
   "cell_type": "markdown",
   "metadata": {},
   "source": [
    "### Interporlate humidity using empirical bayesian kriging"
   ]
  },
  {
   "cell_type": "code",
   "execution_count": 17,
   "metadata": {},
   "outputs": [
    {
     "name": "stdout",
     "output_type": "stream",
     "text": [
      "The geodatabase interpolated_humidity_kriging.gdb has been created.\n"
     ]
    }
   ],
   "source": [
    "# create a new gdb for all interpolated rasters\n",
    "arcpy.env.workspace = data_workspace\n",
    "arcpy.env.overwriteOutput = True\n",
    "\n",
    "# set path to new gdb and create new gdb\n",
    "# idw_1 = inverse distance weighted interpolation using default parameters\n",
    "kriging_gdb_name = \"interpolated_humidity_kriging.gdb\"\n",
    "kriging_gdb_path = os.path.join(data_workspace, kriging_gdb_name)\n",
    "arcpy.CreateFileGDB_management(data_workspace, kriging_gdb_name)\n",
    "print(f\"The geodatabase {kriging_gdb_name} has been created.\")"
   ]
  },
  {
   "cell_type": "code",
   "execution_count": 18,
   "metadata": {},
   "outputs": [
    {
     "name": "stdout",
     "output_type": "stream",
     "text": [
      "Humidity has been interpolated.\n"
     ]
    }
   ],
   "source": [
    "# interpolate humidity by week using splines\n",
    "for point_layer in point_layers:\n",
    "    # get path to each point layer\n",
    "    point_layer_path = os.path.join(fds_path, point_layer)\n",
    "    \n",
    "    # set variables for kriging interpolation\n",
    "    inPointFeatures = point_layer_path\n",
    "    zField = \"avg_hmd\"\n",
    "    \n",
    "    # set output path to interpolated points gdb\n",
    "    raster_name = \"{}_kriging\".format(os.path.splitext(point_layer)[0])\n",
    "    output_path = os.path.join(kriging_gdb_path, raster_name)\n",
    "\n",
    "    # execute kriging and save output\n",
    "    arcpy.EmpiricalBayesianKriging_ga(inPointFeatures, zField, raster_name, output_path)    \n",
    "\n",
    "print(\"Humidity has been interpolated.\")"
   ]
  },
  {
   "cell_type": "markdown",
   "metadata": {},
   "source": [
    "### Identify range of IDW interpolated humidity values for raster symbology"
   ]
  },
  {
   "cell_type": "code",
   "execution_count": 19,
   "metadata": {},
   "outputs": [
    {
     "name": "stdout",
     "output_type": "stream",
     "text": [
      "['week01_idw', 'week02_idw', 'week03_idw', 'week04_idw', 'week05_idw', 'week06_idw', 'week07_idw', 'week08_idw', 'week09_idw', 'week10_idw', 'week11_idw', 'week12_idw', 'week13_idw', 'week14_idw', 'week15_idw', 'week16_idw', 'week17_idw', 'week18_idw', 'week19_idw', 'week20_idw', 'week21_idw', 'week22_idw', 'week23_idw', 'week24_idw', 'week25_idw', 'week26_idw', 'week27_idw', 'week28_idw', 'week29_idw', 'week30_idw', 'week31_idw', 'week32_idw', 'week33_idw', 'week34_idw', 'week35_idw', 'week36_idw', 'week37_idw', 'week38_idw', 'week39_idw', 'week40_idw', 'week41_idw', 'week42_idw', 'week43_idw', 'week44_idw', 'week45_idw', 'week46_idw', 'week47_idw', 'week48_idw', 'week49_idw', 'week50_idw', 'week51_idw', 'week52_idw']\n"
     ]
    }
   ],
   "source": [
    "# list all rasters in IDW interpolated humidity gdb\n",
    "arcpy.env.workspace = idw_1_gdb_path\n",
    "idw_1_rasters = arcpy.ListRasters()\n",
    "\n",
    "# set workspace back to data workspace\n",
    "arcpy.env.workspace = data_workspace\n",
    "\n",
    "print(idw_1_rasters)"
   ]
  },
  {
   "cell_type": "code",
   "execution_count": 20,
   "metadata": {},
   "outputs": [],
   "source": [
    "# get maximum and minimum raster value\n",
    "\n",
    "# set empty vectors to collect max and min values\n",
    "idw_1_max_values = []\n",
    "idw_1_min_values = []\n",
    "\n",
    "for idw_1_raster in idw_1_rasters:\n",
    "    raster_path = os.path.join(idw_1_gdb_path, idw_1_raster)\n",
    "      \n",
    "    # get maximum value\n",
    "    max_value = arcpy.GetRasterProperties_management(raster_path, \"MAXIMUM\")\n",
    "    max_value = float(max_value.getOutput(0))\n",
    "    idw_1_max_values.append(max_value)\n",
    "    \n",
    "    # get minimum value\n",
    "    min_value = arcpy.GetRasterProperties_management(raster_path, \"MINIMUM\")\n",
    "    min_value = float(min_value.getOutput(0))\n",
    "    idw_1_min_values.append(min_value)"
   ]
  },
  {
   "cell_type": "code",
   "execution_count": 21,
   "metadata": {},
   "outputs": [
    {
     "data": {
      "image/png": "[encoded data removed]",
      "text/plain": [
       "<Figure size 640x480 with 1 Axes>"
      ]
     },
     "metadata": {},
     "output_type": "display_data"
    }
   ],
   "source": [
    "# display max values across rasters\n",
    "idw_1_max_values_df = pd.DataFrame(idw_1_max_values)\n",
    "idw_1_max_values_df.hist(bins = 20)\n",
    "plt.show()"
   ]
  },
  {
   "cell_type": "code",
   "execution_count": 22,
   "metadata": {},
   "outputs": [
    {
     "data": {
      "image/png": "[encoded data removed]",
      "text/plain": [
       "<Figure size 640x480 with 1 Axes>"
      ]
     },
     "metadata": {},
     "output_type": "display_data"
    }
   ],
   "source": [
    "# display min values across rasters\n",
    "idw_1_min_values_df = pd.DataFrame(idw_1_min_values)\n",
    "idw_1_min_values_df.hist(bins = 20)\n",
    "plt.show()"
   ]
  },
  {
   "cell_type": "markdown",
   "metadata": {},
   "source": [
    "### Identify range of IDW interpolated humidity values for raster symbology"
   ]
  },
  {
   "cell_type": "code",
   "execution_count": 25,
   "metadata": {},
   "outputs": [
    {
     "name": "stdout",
     "output_type": "stream",
     "text": [
      "['week01_kriging', 'week02_kriging', 'week03_kriging', 'week04_kriging', 'week05_kriging', 'week06_kriging', 'week07_kriging', 'week08_kriging', 'week09_kriging', 'week10_kriging', 'week11_kriging', 'week12_kriging', 'week13_kriging', 'week14_kriging', 'week15_kriging', 'week16_kriging', 'week17_kriging', 'week18_kriging', 'week19_kriging', 'week20_kriging', 'week21_kriging', 'week22_kriging', 'week23_kriging', 'week24_kriging', 'week25_kriging', 'week26_kriging', 'week27_kriging', 'week28_kriging', 'week29_kriging', 'week30_kriging', 'week31_kriging', 'week32_kriging', 'week33_kriging', 'week34_kriging', 'week35_kriging', 'week36_kriging', 'week37_kriging', 'week38_kriging', 'week39_kriging', 'week40_kriging', 'week41_kriging', 'week42_kriging', 'week43_kriging', 'week44_kriging', 'week45_kriging', 'week46_kriging', 'week47_kriging', 'week48_kriging', 'week49_kriging', 'week50_kriging', 'week51_kriging', 'week52_kriging']\n"
     ]
    }
   ],
   "source": [
    "# list all rasters in interpolated humidity gdb\n",
    "arcpy.env.workspace = kriging_gdb_path\n",
    "kriging_rasters = arcpy.ListRasters()\n",
    "\n",
    "# set workspace back to data workspace\n",
    "arcpy.env.workspace = data_workspace\n",
    "\n",
    "print(kriging_rasters)"
   ]
  },
  {
   "cell_type": "code",
   "execution_count": 26,
   "metadata": {},
   "outputs": [],
   "source": [
    "# get maximum and minimum raster value\n",
    "\n",
    "# set empty vectors to collect max and min values\n",
    "kriging_max_values = []\n",
    "kriging_min_values = []\n",
    "\n",
    "for kriging_raster in kriging_rasters:\n",
    "    raster_path = os.path.join(kriging_gdb_path, kriging_raster)\n",
    "      \n",
    "    # get maximum value\n",
    "    max_value = arcpy.GetRasterProperties_management(raster_path, \"MAXIMUM\")\n",
    "    max_value = float(max_value.getOutput(0))\n",
    "    kriging_max_values.append(max_value)\n",
    "    \n",
    "    # get minimum value\n",
    "    min_value = arcpy.GetRasterProperties_management(raster_path, \"MINIMUM\")\n",
    "    min_value = float(min_value.getOutput(0))\n",
    "    kriging_min_values.append(min_value)"
   ]
  },
  {
   "cell_type": "code",
   "execution_count": 27,
   "metadata": {},
   "outputs": [
    {
     "data": {
      "image/png": "[encoded data removed]",
      "text/plain": [
       "<Figure size 640x480 with 1 Axes>"
      ]
     },
     "metadata": {},
     "output_type": "display_data"
    }
   ],
   "source": [
    "# display max values across rasters\n",
    "kriging_max_values_df = pd.DataFrame(kriging_max_values)\n",
    "kriging_max_values_df.hist(bins = 20)\n",
    "plt.show()"
   ]
  },
  {
   "cell_type": "code",
   "execution_count": 28,
   "metadata": {},
   "outputs": [
    {
     "data": {
      "image/png": "[encoded data removed]",
      "text/plain": [
       "<Figure size 640x480 with 1 Axes>"
      ]
     },
     "metadata": {},
     "output_type": "display_data"
    }
   ],
   "source": [
    "# display min values across rasters\n",
    "kriging_min_values_df = pd.DataFrame(kriging_min_values)\n",
    "kriging_min_values_df.hist(bins = 20)\n",
    "plt.show()"
   ]
  },
  {
   "cell_type": "markdown",
   "metadata": {},
   "source": [
    "### Create IDW multidimensional mosaic dataset"
   ]
  },
  {
   "cell_type": "code",
   "execution_count": 30,
   "metadata": {},
   "outputs": [],
   "source": [
    "# set workspace to interpolated gdb\n",
    "arcpy.env.workspace = idw_1_gdb_path\n",
    "arcpy.env.overwriteOutput = True"
   ]
  },
  {
   "cell_type": "code",
   "execution_count": 31,
   "metadata": {},
   "outputs": [
    {
     "name": "stdout",
     "output_type": "stream",
     "text": [
      "The mosaic dataset was created.\n"
     ]
    }
   ],
   "source": [
    "# create empty mosaic dataset\n",
    "idw_1_ds_name = \"idw_1_mosaic\"\n",
    "idw_1_new_mosaic = arcpy.management.CreateMosaicDataset(idw_1_gdb_path, idw_1_ds_name, 4269)\n",
    "print(\"The mosaic dataset was created.\")"
   ]
  },
  {
   "cell_type": "code",
   "execution_count": 35,
   "metadata": {},
   "outputs": [
    {
     "name": "stdout",
     "output_type": "stream",
     "text": [
      "The rasters have been added to the mosaic dataset.\n"
     ]
    }
   ],
   "source": [
    "# add rasters to mosaic dataset\n",
    "for idw_1_raster in idw_1_rasters:\n",
    "    raster_path = os.path.join(idw_1_gdb_path, idw_1_raster)\n",
    "    arcpy.management.AddRastersToMosaicDataset(idw_1_new_mosaic, \"Raster Dataset\", raster_path)\n",
    "    \n",
    "print(\"The rasters have been added to the mosaic dataset.\")"
   ]
  },
  {
   "cell_type": "code",
   "execution_count": 36,
   "metadata": {},
   "outputs": [
    {
     "name": "stdout",
     "output_type": "stream",
     "text": [
      "A time field has been added.\n"
     ]
    }
   ],
   "source": [
    "# add time field to mosaic dataset\n",
    "arcpy.AddField_management(idw_1_new_mosaic, \"Date\", \"DATE\")\n",
    "print(\"A time field has been added.\")"
   ]
  },
  {
   "cell_type": "code",
   "execution_count": 37,
   "metadata": {},
   "outputs": [
    {
     "name": "stdout",
     "output_type": "stream",
     "text": [
      "The mosaic dataset is now time aware.\n"
     ]
    }
   ],
   "source": [
    "# make the mosaic dataset time aware\n",
    "arcpy.SetMosaicDatasetProperties_management(idw_1_new_mosaic, use_time = \"ENABLED\", start_time_field = \"Date\", end_time_field = \"Date\", time_format = \"YYYY-MM-DD hh:mm:ss\")\n",
    "print(\"The mosaic dataset is now time aware.\")"
   ]
  },
  {
   "cell_type": "code",
   "execution_count": 40,
   "metadata": {},
   "outputs": [
    {
     "name": "stdout",
     "output_type": "stream",
     "text": [
      "{'week01_idw': '2019-01-01', 'week02_idw': '2019-01-08', 'week03_idw': '2019-01-15', 'week04_idw': '2019-01-22', 'week05_idw': '2019-01-29', 'week06_idw': '2019-02-05', 'week07_idw': '2019-02-12', 'week08_idw': '2019-02-19', 'week09_idw': '2019-02-26', 'week10_idw': '2019-03-05', 'week11_idw': '2019-03-12', 'week12_idw': '2019-03-19', 'week13_idw': '2019-03-26', 'week14_idw': '2019-04-02', 'week15_idw': '2019-04-09', 'week16_idw': '2019-04-16', 'week17_idw': '2019-04-23', 'week18_idw': '2019-04-30', 'week19_idw': '2019-05-07', 'week20_idw': '2019-05-14', 'week21_idw': '2019-05-21', 'week22_idw': '2019-05-28', 'week23_idw': '2019-06-04', 'week24_idw': '2019-06-11', 'week25_idw': '2019-06-18', 'week26_idw': '2019-06-25', 'week27_idw': '2019-07-02', 'week28_idw': '2019-07-09', 'week29_idw': '2019-07-16', 'week30_idw': '2019-07-23', 'week31_idw': '2019-07-30', 'week32_idw': '2019-08-06', 'week33_idw': '2019-08-13', 'week34_idw': '2019-08-20', 'week35_idw': '2019-08-27', 'week36_idw': '2019-09-03', 'week37_idw': '2019-09-10', 'week38_idw': '2019-09-17', 'week39_idw': '2019-09-24', 'week40_idw': '2019-10-01', 'week41_idw': '2019-10-08', 'week42_idw': '2019-10-15', 'week43_idw': '2019-10-22', 'week44_idw': '2019-10-29', 'week45_idw': '2019-11-05', 'week46_idw': '2019-11-12', 'week47_idw': '2019-11-19', 'week48_idw': '2019-11-26', 'week49_idw': '2019-12-03', 'week50_idw': '2019-12-10', 'week51_idw': '2019-12-17', 'week52_idw': '2019-12-24'}\n"
     ]
    }
   ],
   "source": [
    "# create dataframe of dates\n",
    "date_df = pd.DataFrame(columns = [\"Raster\", \"Date\"])\n",
    "\n",
    "for i, idw_1_raster in enumerate(idw_1_rasters):\n",
    "    week_number = i + 1\n",
    "    date = datetime.datetime.strptime(f'2019-W{week_number}-2', '%G-W%V-%u')\n",
    "    date_df.loc[len(date_df)] = [idw_1_raster, date]\n",
    "\n",
    "date_df = date_df.astype(str)\n",
    "\n",
    "# turn dataframe into dictionary\n",
    "date_dict = dict(zip(date_df[\"Raster\"], date_df[\"Date\"]))\n",
    "\n",
    "print(date_dict)"
   ]
  },
  {
   "cell_type": "code",
   "execution_count": 41,
   "metadata": {},
   "outputs": [
    {
     "name": "stdout",
     "output_type": "stream",
     "text": [
      "Dates have been added to the multidimensional dataset\n"
     ]
    }
   ],
   "source": [
    "# calculate Date field in mosaic dataset\n",
    "\n",
    "# need to hard code date dictionary bc the CalculateField function does not reference external workspace\n",
    "codeblock = \"\"\"\n",
    "def get_date(Name):\n",
    "    date_dict = {'week01_idw': '2019-01-01', 'week02_idw': '2019-01-08', 'week03_idw': '2019-01-15', 'week04_idw': '2019-01-22', 'week05_idw': '2019-01-29', 'week06_idw': '2019-02-05', 'week07_idw': '2019-02-12', 'week08_idw': '2019-02-19', 'week09_idw': '2019-02-26', 'week10_idw': '2019-03-05', 'week11_idw': '2019-03-12', 'week12_idw': '2019-03-19', 'week13_idw': '2019-03-26', 'week14_idw': '2019-04-02', 'week15_idw': '2019-04-09', 'week16_idw': '2019-04-16', 'week17_idw': '2019-04-23', 'week18_idw': '2019-04-30', 'week19_idw': '2019-05-07', 'week20_idw': '2019-05-14', 'week21_idw': '2019-05-21', 'week22_idw': '2019-05-28', 'week23_idw': '2019-06-04', 'week24_idw': '2019-06-11', 'week25_idw': '2019-06-18', 'week26_idw': '2019-06-25', 'week27_idw': '2019-07-02', 'week28_idw': '2019-07-09', 'week29_idw': '2019-07-16', 'week30_idw': '2019-07-23', 'week31_idw': '2019-07-30', 'week32_idw': '2019-08-06', 'week33_idw': '2019-08-13', 'week34_idw': '2019-08-20', 'week35_idw': '2019-08-27', 'week36_idw': '2019-09-03', 'week37_idw': '2019-09-10', 'week38_idw': '2019-09-17', 'week39_idw': '2019-09-24', 'week40_idw': '2019-10-01', 'week41_idw': '2019-10-08', 'week42_idw': '2019-10-15', 'week43_idw': '2019-10-22', 'week44_idw': '2019-10-29', 'week45_idw': '2019-11-05', 'week46_idw': '2019-11-12', 'week47_idw': '2019-11-19', 'week48_idw': '2019-11-26', 'week49_idw': '2019-12-03', 'week50_idw': '2019-12-10', 'week51_idw': '2019-12-17', 'week52_idw': '2019-12-24'}\n",
    "    return_date = date_dict[Name]\n",
    "    return return_date\n",
    "\"\"\"\n",
    "\n",
    "expression = \"get_date(!Name!)\"\n",
    "\n",
    "arcpy.management.CalculateField(idw_1_new_mosaic, \"Date\", expression, \"PYTHON3\", codeblock)\n",
    "\n",
    "print(\"Dates have been added to the multidimensional dataset\")"
   ]
  },
  {
   "cell_type": "code",
   "execution_count": 42,
   "metadata": {},
   "outputs": [
    {
     "name": "stdout",
     "output_type": "stream",
     "text": [
      "The mosaic dataset is now multidimensional.\n"
     ]
    }
   ],
   "source": [
    "# add multidimensional component\n",
    "variable_field = \"Value\"\n",
    "dimension_fields = \"Date\"\n",
    "arcpy.md.BuildMultidimensionalInfo(idw_1_new_mosaic, variable_field, dimension_fields)\n",
    "\n",
    "print(\"The mosaic dataset is now multidimensional.\")"
   ]
  },
  {
   "cell_type": "code",
   "execution_count": 43,
   "metadata": {},
   "outputs": [
    {
     "name": "stdout",
     "output_type": "stream",
     "text": [
      "Mosaic raster statistics have been calculated.\n"
     ]
    }
   ],
   "source": [
    "# calculate mosaic dataset raster statistics for symbology\n",
    "arcpy.management.CalculateStatistics(idw_1_new_mosaic)\n",
    "print(\"Mosaic raster statistics have been calculated.\")"
   ]
  },
  {
   "cell_type": "markdown",
   "metadata": {},
   "source": [
    "### Create IDW multidimensional mosaic dataset"
   ]
  },
  {
   "cell_type": "code",
   "execution_count": 44,
   "metadata": {},
   "outputs": [],
   "source": [
    "# set workspace to interpolated gdb\n",
    "arcpy.env.workspace = kriging_gdb_path\n",
    "arcpy.env.overwriteOutput = True"
   ]
  },
  {
   "cell_type": "code",
   "execution_count": 45,
   "metadata": {},
   "outputs": [
    {
     "name": "stdout",
     "output_type": "stream",
     "text": [
      "The mosaic dataset was created.\n"
     ]
    }
   ],
   "source": [
    "# create empty mosaic dataset\n",
    "kriging_ds_name = \"kriging_mosaic\"\n",
    "kriging_new_mosaic = arcpy.management.CreateMosaicDataset(kriging_gdb_path, kriging_ds_name, 4269)\n",
    "print(\"The mosaic dataset was created.\")"
   ]
  },
  {
   "cell_type": "code",
   "execution_count": 46,
   "metadata": {},
   "outputs": [
    {
     "name": "stdout",
     "output_type": "stream",
     "text": [
      "The rasters have been added to the mosaic dataset.\n"
     ]
    }
   ],
   "source": [
    "# add rasters to mosaic dataset\n",
    "for kriging_raster in kriging_rasters:\n",
    "    raster_path = os.path.join(kriging_gdb_path, kriging_raster)\n",
    "    arcpy.management.AddRastersToMosaicDataset(kriging_new_mosaic, \"Raster Dataset\", raster_path)\n",
    "    \n",
    "print(\"The rasters have been added to the mosaic dataset.\")"
   ]
  },
  {
   "cell_type": "code",
   "execution_count": 47,
   "metadata": {},
   "outputs": [
    {
     "name": "stdout",
     "output_type": "stream",
     "text": [
      "A time field has been added.\n"
     ]
    }
   ],
   "source": [
    "# add time field to mosaic dataset\n",
    "arcpy.AddField_management(kriging_new_mosaic, \"Date\", \"DATE\")\n",
    "print(\"A time field has been added.\")"
   ]
  },
  {
   "cell_type": "code",
   "execution_count": 51,
   "metadata": {},
   "outputs": [
    {
     "name": "stdout",
     "output_type": "stream",
     "text": [
      "The mosaic dataset is now time aware.\n"
     ]
    }
   ],
   "source": [
    "# make the mosaic dataset time aware\n",
    "arcpy.SetMosaicDatasetProperties_management(kriging_new_mosaic, use_time = \"ENABLED\", start_time_field = \"Date\", end_time_field = \"Date\", time_format = \"YYYY-MM-DD hh:mm:ss\")\n",
    "print(\"The mosaic dataset is now time aware.\")"
   ]
  },
  {
   "cell_type": "code",
   "execution_count": 53,
   "metadata": {},
   "outputs": [
    {
     "name": "stdout",
     "output_type": "stream",
     "text": [
      "{'week01_kriging': '2019-01-01', 'week02_kriging': '2019-01-08', 'week03_kriging': '2019-01-15', 'week04_kriging': '2019-01-22', 'week05_kriging': '2019-01-29', 'week06_kriging': '2019-02-05', 'week07_kriging': '2019-02-12', 'week08_kriging': '2019-02-19', 'week09_kriging': '2019-02-26', 'week10_kriging': '2019-03-05', 'week11_kriging': '2019-03-12', 'week12_kriging': '2019-03-19', 'week13_kriging': '2019-03-26', 'week14_kriging': '2019-04-02', 'week15_kriging': '2019-04-09', 'week16_kriging': '2019-04-16', 'week17_kriging': '2019-04-23', 'week18_kriging': '2019-04-30', 'week19_kriging': '2019-05-07', 'week20_kriging': '2019-05-14', 'week21_kriging': '2019-05-21', 'week22_kriging': '2019-05-28', 'week23_kriging': '2019-06-04', 'week24_kriging': '2019-06-11', 'week25_kriging': '2019-06-18', 'week26_kriging': '2019-06-25', 'week27_kriging': '2019-07-02', 'week28_kriging': '2019-07-09', 'week29_kriging': '2019-07-16', 'week30_kriging': '2019-07-23', 'week31_kriging': '2019-07-30', 'week32_kriging': '2019-08-06', 'week33_kriging': '2019-08-13', 'week34_kriging': '2019-08-20', 'week35_kriging': '2019-08-27', 'week36_kriging': '2019-09-03', 'week37_kriging': '2019-09-10', 'week38_kriging': '2019-09-17', 'week39_kriging': '2019-09-24', 'week40_kriging': '2019-10-01', 'week41_kriging': '2019-10-08', 'week42_kriging': '2019-10-15', 'week43_kriging': '2019-10-22', 'week44_kriging': '2019-10-29', 'week45_kriging': '2019-11-05', 'week46_kriging': '2019-11-12', 'week47_kriging': '2019-11-19', 'week48_kriging': '2019-11-26', 'week49_kriging': '2019-12-03', 'week50_kriging': '2019-12-10', 'week51_kriging': '2019-12-17', 'week52_kriging': '2019-12-24'}\n"
     ]
    }
   ],
   "source": [
    "# create dataframe of dates\n",
    "date_df = pd.DataFrame(columns = [\"Raster\", \"Date\"])\n",
    "\n",
    "for i, kriging_raster in enumerate(kriging_rasters):\n",
    "    week_number = i + 1\n",
    "    date = datetime.datetime.strptime(f'2019-W{week_number}-2', '%G-W%V-%u')\n",
    "    date_df.loc[len(date_df)] = [kriging_raster, date]\n",
    "\n",
    "date_df = date_df.astype(str)\n",
    "\n",
    "# turn dataframe into dictionary\n",
    "date_dict = dict(zip(date_df[\"Raster\"], date_df[\"Date\"]))\n",
    "\n",
    "print(date_dict)"
   ]
  },
  {
   "cell_type": "code",
   "execution_count": 54,
   "metadata": {},
   "outputs": [
    {
     "name": "stdout",
     "output_type": "stream",
     "text": [
      "Dates have been added to the multidimensional dataset\n"
     ]
    }
   ],
   "source": [
    "# calculate Date field in mosaic dataset\n",
    "\n",
    "# need to hard code date dictionary bc the CalculateField function does not reference external workspace\n",
    "codeblock = \"\"\"\n",
    "def get_date(Name):\n",
    "    date_dict = {'week01_kriging': '2019-01-01', 'week02_kriging': '2019-01-08', 'week03_kriging': '2019-01-15', 'week04_kriging': '2019-01-22', 'week05_kriging': '2019-01-29', 'week06_kriging': '2019-02-05', 'week07_kriging': '2019-02-12', 'week08_kriging': '2019-02-19', 'week09_kriging': '2019-02-26', 'week10_kriging': '2019-03-05', 'week11_kriging': '2019-03-12', 'week12_kriging': '2019-03-19', 'week13_kriging': '2019-03-26', 'week14_kriging': '2019-04-02', 'week15_kriging': '2019-04-09', 'week16_kriging': '2019-04-16', 'week17_kriging': '2019-04-23', 'week18_kriging': '2019-04-30', 'week19_kriging': '2019-05-07', 'week20_kriging': '2019-05-14', 'week21_kriging': '2019-05-21', 'week22_kriging': '2019-05-28', 'week23_kriging': '2019-06-04', 'week24_kriging': '2019-06-11', 'week25_kriging': '2019-06-18', 'week26_kriging': '2019-06-25', 'week27_kriging': '2019-07-02', 'week28_kriging': '2019-07-09', 'week29_kriging': '2019-07-16', 'week30_kriging': '2019-07-23', 'week31_kriging': '2019-07-30', 'week32_kriging': '2019-08-06', 'week33_kriging': '2019-08-13', 'week34_kriging': '2019-08-20', 'week35_kriging': '2019-08-27', 'week36_kriging': '2019-09-03', 'week37_kriging': '2019-09-10', 'week38_kriging': '2019-09-17', 'week39_kriging': '2019-09-24', 'week40_kriging': '2019-10-01', 'week41_kriging': '2019-10-08', 'week42_kriging': '2019-10-15', 'week43_kriging': '2019-10-22', 'week44_kriging': '2019-10-29', 'week45_kriging': '2019-11-05', 'week46_kriging': '2019-11-12', 'week47_kriging': '2019-11-19', 'week48_kriging': '2019-11-26', 'week49_kriging': '2019-12-03', 'week50_kriging': '2019-12-10', 'week51_kriging': '2019-12-17', 'week52_kriging': '2019-12-24'}\n",
    "    return_date = date_dict[Name]\n",
    "    return return_date\n",
    "\"\"\"\n",
    "\n",
    "expression = \"get_date(!Name!)\"\n",
    "\n",
    "arcpy.management.CalculateField(kriging_new_mosaic, \"Date\", expression, \"PYTHON3\", codeblock)\n",
    "\n",
    "print(\"Dates have been added to the multidimensional dataset\")"
   ]
  },
  {
   "cell_type": "code",
   "execution_count": 55,
   "metadata": {},
   "outputs": [
    {
     "name": "stdout",
     "output_type": "stream",
     "text": [
      "The mosaic dataset is now multidimensional.\n"
     ]
    }
   ],
   "source": [
    "# add multidimensional component\n",
    "variable_field = \"Value\"\n",
    "dimension_fields = \"Date\"\n",
    "arcpy.md.BuildMultidimensionalInfo(kriging_new_mosaic, variable_field, dimension_fields)\n",
    "\n",
    "print(\"The mosaic dataset is now multidimensional.\")"
   ]
  },
  {
   "cell_type": "code",
   "execution_count": 56,
   "metadata": {},
   "outputs": [
    {
     "name": "stdout",
     "output_type": "stream",
     "text": [
      "Mosaic raster statistics have been calculated.\n"
     ]
    }
   ],
   "source": [
    "# calculate mosaic dataset raster statistics for symbology\n",
    "arcpy.management.CalculateStatistics(kriging_new_mosaic)\n",
    "print(\"Mosaic raster statistics have been calculated.\")"
   ]
  },
  {
   "cell_type": "markdown",
   "metadata": {},
   "source": [
    "### Add IDW mosaic dataset to map and adjust symbology of all layers"
   ]
  },
  {
   "cell_type": "code",
   "execution_count": 57,
   "metadata": {},
   "outputs": [],
   "source": [
    "# set workspace back to base\n",
    "arcpy.env.workspace = base_path\n",
    "arcpy.env.overwriteOutput = True"
   ]
  },
  {
   "cell_type": "code",
   "execution_count": 58,
   "metadata": {},
   "outputs": [
    {
     "name": "stdout",
     "output_type": "stream",
     "text": [
      "The mosaic dataset has been added to the map.\n"
     ]
    }
   ],
   "source": [
    "# add mosaic dataset to map\n",
    "# create a map\n",
    "current_project = arcpy.mp.ArcGISProject(\"CURRENT\")\n",
    "current_project.createMap(\"IDW_1_Map\")\n",
    "\n",
    "# set to current map\n",
    "idw_1_map_name = \"IDW_1_Map\"\n",
    "idw_1_map = current_project.listMaps(idw_1_map_name)[0]\n",
    "\n",
    "mosaic_to_add = str(idw_1_new_mosaic)\n",
    "\n",
    "idw_1_map.addDataFromPath(mosaic_to_add)\n",
    "\n",
    "print(\"The mosaic dataset has been added to the map.\")"
   ]
  },
  {
   "cell_type": "code",
   "execution_count": 59,
   "metadata": {},
   "outputs": [
    {
     "name": "stdout",
     "output_type": "stream",
     "text": [
      "The mosaic dataset symbology has been changed.\n"
     ]
    }
   ],
   "source": [
    "# change symbology\n",
    "    \n",
    "# call the mosaic dataset symbology\n",
    "idw_1_mosaic_layer = idw_1_map.listLayers(\"Image\")[0]\n",
    "idw_1_symbology = idw_1_mosaic_layer.symbology\n",
    "    \n",
    "# update symbology to classify\n",
    "idw_1_symbology.updateColorizer(\"RasterClassifyColorizer\")\n",
    "idw_1_symbology.colorizer.breakCount = 12\n",
    "idw_1_symbology.colorizer.colorRamp = current_project.listColorRamps(\"Cyan to Purple\")[0]\n",
    "    \n",
    "# assign the new symbology back to the mosaic dataset\n",
    "idw_1_mosaic_layer.symbology = idw_1_symbology\n",
    "\n",
    "# set the scale of the raster symbology\n",
    "break_value = 45\n",
    "color_value = 0\n",
    "\n",
    "for brk in idw_1_symbology.colorizer.classBreaks:\n",
    "    brk.upperBound = break_value\n",
    "    brk.color = {\"HSV\" : [180 + color_value, 100, 100, 100]}\n",
    "    brk.label = \"\\u2264\" + str(break_value)\n",
    "    \n",
    "    break_value += 5\n",
    "    color_value += 15\n",
    "\n",
    "idw_1_mosaic_layer.symbology = idw_1_symbology\n",
    "\n",
    "print(\"The mosaic dataset symbology has been changed.\")"
   ]
  },
  {
   "cell_type": "markdown",
   "metadata": {},
   "source": [
    "### Add Kriging mosaic dataset to map and adjust symbology of all layers"
   ]
  },
  {
   "cell_type": "code",
   "execution_count": 60,
   "metadata": {},
   "outputs": [
    {
     "name": "stdout",
     "output_type": "stream",
     "text": [
      "The mosaic dataset has been added to the map.\n"
     ]
    }
   ],
   "source": [
    "# add mosaic dataset to map\n",
    "# create a map\n",
    "current_project.createMap(\"Kriging_Map\")\n",
    "\n",
    "# set to current map\n",
    "kriging_map_name = \"Kriging_Map\"\n",
    "kriging_map = current_project.listMaps(kriging_map_name)[0]\n",
    "\n",
    "mosaic_to_add = str(kriging_new_mosaic)\n",
    "\n",
    "kriging_map.addDataFromPath(mosaic_to_add)\n",
    "\n",
    "print(\"The mosaic dataset has been added to the map.\")"
   ]
  },
  {
   "cell_type": "code",
   "execution_count": 61,
   "metadata": {},
   "outputs": [
    {
     "name": "stdout",
     "output_type": "stream",
     "text": [
      "The mosaic dataset symbology has been changed.\n"
     ]
    }
   ],
   "source": [
    "# change symbology\n",
    "    \n",
    "# call the mosaic dataset symbology\n",
    "kriging_mosaic_layer = kriging_map.listLayers(\"Image\")[0]\n",
    "kriging_symbology = kriging_mosaic_layer.symbology\n",
    "    \n",
    "# update symbology to classify\n",
    "kriging_symbology.updateColorizer(\"RasterClassifyColorizer\")\n",
    "kriging_symbology.colorizer.breakCount = 12\n",
    "kriging_symbology.colorizer.colorRamp = current_project.listColorRamps(\"Cyan to Purple\")[0]\n",
    "    \n",
    "# assign the new symbology back to the mosaic dataset\n",
    "kriging_mosaic_layer.symbology = kriging_symbology\n",
    "\n",
    "# set the scale of the raster symbology\n",
    "break_value = 45\n",
    "color_value = 0\n",
    "\n",
    "for brk in kriging_symbology.colorizer.classBreaks:\n",
    "    brk.upperBound = break_value\n",
    "    brk.color = {\"HSV\" : [180 + color_value, 100, 100, 100]}\n",
    "    brk.label = \"\\u2264\" + str(break_value)\n",
    "    \n",
    "    break_value += 5\n",
    "    color_value += 15\n",
    "\n",
    "kriging_mosaic_layer.symbology = kriging_symbology\n",
    "\n",
    "print(\"The mosaic dataset symbology has been changed.\")"
   ]
  }
 ],
 "metadata": {
  "kernelspec": {
   "display_name": "ArcGISPro",
   "language": "Python",
   "name": "python3"
  },
  "language_info": {
   "file_extension": ".py",
   "name": "python",
   "version": "3"
  }
 },
 "nbformat": 4,
 "nbformat_minor": 2
}
