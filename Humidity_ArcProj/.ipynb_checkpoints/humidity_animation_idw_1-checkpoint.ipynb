{
 "cells": [
  {
   "cell_type": "markdown",
   "metadata": {},
   "source": [
    "# Chicago 2020 Humidity Animation"
   ]
  },
  {
   "cell_type": "markdown",
   "metadata": {},
   "source": [
    "This notebook will clean up the code used to create the initial humidity animation using inverse distance weighted interpolation."
   ]
  },
  {
   "cell_type": "code",
   "execution_count": 43,
   "metadata": {},
   "outputs": [],
   "source": [
    "# import\n",
    "import arcpy\n",
    "from arcpy.sa import *\n",
    "from arcpy.ia import *\n",
    "import os\n",
    "import pandas as pd\n",
    "import datetime\n",
    "import matplotlib.pyplot as plt\n",
    "%matplotlib inline"
   ]
  },
  {
   "cell_type": "code",
   "execution_count": 17,
   "metadata": {},
   "outputs": [
    {
     "name": "stdout",
     "output_type": "stream",
     "text": [
      "C:\\Users\\laptop\\Desktop\\GIS_Spring_2024\\AoT_Humidity\n"
     ]
    }
   ],
   "source": [
    "# set base path\n",
    "base_path = r\"C:\\Users\\laptop\\Desktop\\GIS_Spring_2024\\AoT_Humidity\"\n",
    "print(base_path)"
   ]
  },
  {
   "cell_type": "markdown",
   "metadata": {},
   "source": [
    "### Create a geodatabase of humidity by week shapefiles"
   ]
  },
  {
   "cell_type": "code",
   "execution_count": 18,
   "metadata": {},
   "outputs": [
    {
     "name": "stdout",
     "output_type": "stream",
     "text": [
      "C:\\Users\\laptop\\Desktop\\GIS_Spring_2024\\AoT_Humidity\\data\n",
      "The envrionment for creating a geodatabase has been set.\n"
     ]
    }
   ],
   "source": [
    "# set workspace for creating geodatabase of shapefiles\n",
    "data_folder = \"data\"\n",
    "data_workspace = os.path.join(base_path, data_folder)\n",
    "print(data_workspace)\n",
    "\n",
    "arcpy.env.workspace = data_workspace\n",
    "arcpy.env.overwriteOutput = True\n",
    "print(\"The envrionment for creating a geodatabase has been set.\")"
   ]
  },
  {
   "cell_type": "code",
   "execution_count": 19,
   "metadata": {},
   "outputs": [
    {
     "name": "stdout",
     "output_type": "stream",
     "text": [
      "The geodatabase humidity_by_week.gdb has been created.\n"
     ]
    }
   ],
   "source": [
    "# set path to new gdb and create new gdb\n",
    "humidity_gdb_name = \"humidity_by_week.gdb\"\n",
    "humidity_gdb_path = os.path.join(data_workspace, humidity_gdb_name)\n",
    "\n",
    "arcpy.CreateFileGDB_management(data_workspace, humidity_gdb_name)\n",
    "print(f\"The geodatabase {humidity_gdb_name} has been created.\")"
   ]
  },
  {
   "cell_type": "code",
   "execution_count": 21,
   "metadata": {},
   "outputs": [
    {
     "name": "stdout",
     "output_type": "stream",
     "text": [
      "The geodatabase humidity_by_week has been created.\n"
     ]
    }
   ],
   "source": [
    "# create a feature dataset in the geodatabase\n",
    "fds = \"humidity_by_week\"\n",
    "fds_path = os.path.join(humidity_gdb_path, fds)\n",
    "coord_ref = arcpy.SpatialReference(4269) #NAD83 CRS\n",
    "arcpy.CreateFeatureDataset_management(humidity_gdb_path, fds, coord_ref)\n",
    "print(f\"The geodatabase {fds} has been created.\")"
   ]
  },
  {
   "cell_type": "code",
   "execution_count": 22,
   "metadata": {},
   "outputs": [
    {
     "name": "stdout",
     "output_type": "stream",
     "text": [
      "['C:\\\\Users\\\\laptop\\\\Desktop\\\\GIS_Spring_2024\\\\AoT_Humidity\\\\data\\\\humidity_shapefiles_by_week\\\\week=01\\\\week=01.shp', 'C:\\\\Users\\\\laptop\\\\Desktop\\\\GIS_Spring_2024\\\\AoT_Humidity\\\\data\\\\humidity_shapefiles_by_week\\\\week=02\\\\week=02.shp', 'C:\\\\Users\\\\laptop\\\\Desktop\\\\GIS_Spring_2024\\\\AoT_Humidity\\\\data\\\\humidity_shapefiles_by_week\\\\week=03\\\\week=03.shp', 'C:\\\\Users\\\\laptop\\\\Desktop\\\\GIS_Spring_2024\\\\AoT_Humidity\\\\data\\\\humidity_shapefiles_by_week\\\\week=04\\\\week=04.shp', 'C:\\\\Users\\\\laptop\\\\Desktop\\\\GIS_Spring_2024\\\\AoT_Humidity\\\\data\\\\humidity_shapefiles_by_week\\\\week=05\\\\week=05.shp', 'C:\\\\Users\\\\laptop\\\\Desktop\\\\GIS_Spring_2024\\\\AoT_Humidity\\\\data\\\\humidity_shapefiles_by_week\\\\week=06\\\\week=06.shp', 'C:\\\\Users\\\\laptop\\\\Desktop\\\\GIS_Spring_2024\\\\AoT_Humidity\\\\data\\\\humidity_shapefiles_by_week\\\\week=07\\\\week=07.shp', 'C:\\\\Users\\\\laptop\\\\Desktop\\\\GIS_Spring_2024\\\\AoT_Humidity\\\\data\\\\humidity_shapefiles_by_week\\\\week=08\\\\week=08.shp', 'C:\\\\Users\\\\laptop\\\\Desktop\\\\GIS_Spring_2024\\\\AoT_Humidity\\\\data\\\\humidity_shapefiles_by_week\\\\week=09\\\\week=09.shp', 'C:\\\\Users\\\\laptop\\\\Desktop\\\\GIS_Spring_2024\\\\AoT_Humidity\\\\data\\\\humidity_shapefiles_by_week\\\\week=10\\\\week=10.shp', 'C:\\\\Users\\\\laptop\\\\Desktop\\\\GIS_Spring_2024\\\\AoT_Humidity\\\\data\\\\humidity_shapefiles_by_week\\\\week=11\\\\week=11.shp', 'C:\\\\Users\\\\laptop\\\\Desktop\\\\GIS_Spring_2024\\\\AoT_Humidity\\\\data\\\\humidity_shapefiles_by_week\\\\week=12\\\\week=12.shp', 'C:\\\\Users\\\\laptop\\\\Desktop\\\\GIS_Spring_2024\\\\AoT_Humidity\\\\data\\\\humidity_shapefiles_by_week\\\\week=13\\\\week=13.shp', 'C:\\\\Users\\\\laptop\\\\Desktop\\\\GIS_Spring_2024\\\\AoT_Humidity\\\\data\\\\humidity_shapefiles_by_week\\\\week=14\\\\week=14.shp', 'C:\\\\Users\\\\laptop\\\\Desktop\\\\GIS_Spring_2024\\\\AoT_Humidity\\\\data\\\\humidity_shapefiles_by_week\\\\week=15\\\\week=15.shp', 'C:\\\\Users\\\\laptop\\\\Desktop\\\\GIS_Spring_2024\\\\AoT_Humidity\\\\data\\\\humidity_shapefiles_by_week\\\\week=16\\\\week=16.shp', 'C:\\\\Users\\\\laptop\\\\Desktop\\\\GIS_Spring_2024\\\\AoT_Humidity\\\\data\\\\humidity_shapefiles_by_week\\\\week=17\\\\week=17.shp', 'C:\\\\Users\\\\laptop\\\\Desktop\\\\GIS_Spring_2024\\\\AoT_Humidity\\\\data\\\\humidity_shapefiles_by_week\\\\week=18\\\\week=18.shp', 'C:\\\\Users\\\\laptop\\\\Desktop\\\\GIS_Spring_2024\\\\AoT_Humidity\\\\data\\\\humidity_shapefiles_by_week\\\\week=19\\\\week=19.shp', 'C:\\\\Users\\\\laptop\\\\Desktop\\\\GIS_Spring_2024\\\\AoT_Humidity\\\\data\\\\humidity_shapefiles_by_week\\\\week=20\\\\week=20.shp', 'C:\\\\Users\\\\laptop\\\\Desktop\\\\GIS_Spring_2024\\\\AoT_Humidity\\\\data\\\\humidity_shapefiles_by_week\\\\week=21\\\\week=21.shp', 'C:\\\\Users\\\\laptop\\\\Desktop\\\\GIS_Spring_2024\\\\AoT_Humidity\\\\data\\\\humidity_shapefiles_by_week\\\\week=22\\\\week=22.shp', 'C:\\\\Users\\\\laptop\\\\Desktop\\\\GIS_Spring_2024\\\\AoT_Humidity\\\\data\\\\humidity_shapefiles_by_week\\\\week=23\\\\week=23.shp', 'C:\\\\Users\\\\laptop\\\\Desktop\\\\GIS_Spring_2024\\\\AoT_Humidity\\\\data\\\\humidity_shapefiles_by_week\\\\week=24\\\\week=24.shp', 'C:\\\\Users\\\\laptop\\\\Desktop\\\\GIS_Spring_2024\\\\AoT_Humidity\\\\data\\\\humidity_shapefiles_by_week\\\\week=25\\\\week=25.shp', 'C:\\\\Users\\\\laptop\\\\Desktop\\\\GIS_Spring_2024\\\\AoT_Humidity\\\\data\\\\humidity_shapefiles_by_week\\\\week=26\\\\week=26.shp', 'C:\\\\Users\\\\laptop\\\\Desktop\\\\GIS_Spring_2024\\\\AoT_Humidity\\\\data\\\\humidity_shapefiles_by_week\\\\week=27\\\\week=27.shp', 'C:\\\\Users\\\\laptop\\\\Desktop\\\\GIS_Spring_2024\\\\AoT_Humidity\\\\data\\\\humidity_shapefiles_by_week\\\\week=28\\\\week=28.shp', 'C:\\\\Users\\\\laptop\\\\Desktop\\\\GIS_Spring_2024\\\\AoT_Humidity\\\\data\\\\humidity_shapefiles_by_week\\\\week=29\\\\week=29.shp', 'C:\\\\Users\\\\laptop\\\\Desktop\\\\GIS_Spring_2024\\\\AoT_Humidity\\\\data\\\\humidity_shapefiles_by_week\\\\week=30\\\\week=30.shp', 'C:\\\\Users\\\\laptop\\\\Desktop\\\\GIS_Spring_2024\\\\AoT_Humidity\\\\data\\\\humidity_shapefiles_by_week\\\\week=31\\\\week=31.shp', 'C:\\\\Users\\\\laptop\\\\Desktop\\\\GIS_Spring_2024\\\\AoT_Humidity\\\\data\\\\humidity_shapefiles_by_week\\\\week=32\\\\week=32.shp', 'C:\\\\Users\\\\laptop\\\\Desktop\\\\GIS_Spring_2024\\\\AoT_Humidity\\\\data\\\\humidity_shapefiles_by_week\\\\week=33\\\\week=33.shp', 'C:\\\\Users\\\\laptop\\\\Desktop\\\\GIS_Spring_2024\\\\AoT_Humidity\\\\data\\\\humidity_shapefiles_by_week\\\\week=34\\\\week=34.shp', 'C:\\\\Users\\\\laptop\\\\Desktop\\\\GIS_Spring_2024\\\\AoT_Humidity\\\\data\\\\humidity_shapefiles_by_week\\\\week=35\\\\week=35.shp', 'C:\\\\Users\\\\laptop\\\\Desktop\\\\GIS_Spring_2024\\\\AoT_Humidity\\\\data\\\\humidity_shapefiles_by_week\\\\week=36\\\\week=36.shp', 'C:\\\\Users\\\\laptop\\\\Desktop\\\\GIS_Spring_2024\\\\AoT_Humidity\\\\data\\\\humidity_shapefiles_by_week\\\\week=37\\\\week=37.shp', 'C:\\\\Users\\\\laptop\\\\Desktop\\\\GIS_Spring_2024\\\\AoT_Humidity\\\\data\\\\humidity_shapefiles_by_week\\\\week=38\\\\week=38.shp', 'C:\\\\Users\\\\laptop\\\\Desktop\\\\GIS_Spring_2024\\\\AoT_Humidity\\\\data\\\\humidity_shapefiles_by_week\\\\week=39\\\\week=39.shp', 'C:\\\\Users\\\\laptop\\\\Desktop\\\\GIS_Spring_2024\\\\AoT_Humidity\\\\data\\\\humidity_shapefiles_by_week\\\\week=40\\\\week=40.shp', 'C:\\\\Users\\\\laptop\\\\Desktop\\\\GIS_Spring_2024\\\\AoT_Humidity\\\\data\\\\humidity_shapefiles_by_week\\\\week=41\\\\week=41.shp', 'C:\\\\Users\\\\laptop\\\\Desktop\\\\GIS_Spring_2024\\\\AoT_Humidity\\\\data\\\\humidity_shapefiles_by_week\\\\week=42\\\\week=42.shp', 'C:\\\\Users\\\\laptop\\\\Desktop\\\\GIS_Spring_2024\\\\AoT_Humidity\\\\data\\\\humidity_shapefiles_by_week\\\\week=43\\\\week=43.shp', 'C:\\\\Users\\\\laptop\\\\Desktop\\\\GIS_Spring_2024\\\\AoT_Humidity\\\\data\\\\humidity_shapefiles_by_week\\\\week=44\\\\week=44.shp', 'C:\\\\Users\\\\laptop\\\\Desktop\\\\GIS_Spring_2024\\\\AoT_Humidity\\\\data\\\\humidity_shapefiles_by_week\\\\week=45\\\\week=45.shp', 'C:\\\\Users\\\\laptop\\\\Desktop\\\\GIS_Spring_2024\\\\AoT_Humidity\\\\data\\\\humidity_shapefiles_by_week\\\\week=46\\\\week=46.shp', 'C:\\\\Users\\\\laptop\\\\Desktop\\\\GIS_Spring_2024\\\\AoT_Humidity\\\\data\\\\humidity_shapefiles_by_week\\\\week=47\\\\week=47.shp', 'C:\\\\Users\\\\laptop\\\\Desktop\\\\GIS_Spring_2024\\\\AoT_Humidity\\\\data\\\\humidity_shapefiles_by_week\\\\week=48\\\\week=48.shp', 'C:\\\\Users\\\\laptop\\\\Desktop\\\\GIS_Spring_2024\\\\AoT_Humidity\\\\data\\\\humidity_shapefiles_by_week\\\\week=49\\\\week=49.shp', 'C:\\\\Users\\\\laptop\\\\Desktop\\\\GIS_Spring_2024\\\\AoT_Humidity\\\\data\\\\humidity_shapefiles_by_week\\\\week=50\\\\week=50.shp', 'C:\\\\Users\\\\laptop\\\\Desktop\\\\GIS_Spring_2024\\\\AoT_Humidity\\\\data\\\\humidity_shapefiles_by_week\\\\week=51\\\\week=51.shp', 'C:\\\\Users\\\\laptop\\\\Desktop\\\\GIS_Spring_2024\\\\AoT_Humidity\\\\data\\\\humidity_shapefiles_by_week\\\\week=52\\\\week=52.shp', 'C:\\\\Users\\\\laptop\\\\Desktop\\\\GIS_Spring_2024\\\\AoT_Humidity\\\\data\\\\humidity_shapefiles_by_week\\\\week=53\\\\week=53.shp']\n"
     ]
    }
   ],
   "source": [
    "# list all humidity shapefiles in the humidity shapefiles by week folder\n",
    "# humidity shapefiles by week was created using R\n",
    "shp_path = \"humidity_shapefiles_by_week\"\n",
    "shp_paths = os.path.join(data_workspace, shp_path)\n",
    "\n",
    "# function to find and list all humidity shapefiles\n",
    "def list_shapefiles_from_folders(folder):\n",
    "    shapefiles = []\n",
    "    for root, dirs, files in os.walk(folder):\n",
    "        for file in files:\n",
    "            if file.endswith(\".shp\"):\n",
    "                shapefiles.append(os.path.join(root, file))\n",
    "    return shapefiles\n",
    "\n",
    "# check function\n",
    "shp_list = list_shapefiles_from_folders(shp_paths)\n",
    "print(shp_list)"
   ]
  },
  {
   "cell_type": "code",
   "execution_count": 23,
   "metadata": {},
   "outputs": [],
   "source": [
    "# create function to remove bad characters for naming the files when adding them to the geodatabase\n",
    "def remove(string, bad_chars):\n",
    "    for c in bad_chars:\n",
    "        string = string.replace(c, \"\")\n",
    "    return string"
   ]
  },
  {
   "cell_type": "code",
   "execution_count": 24,
   "metadata": {},
   "outputs": [
    {
     "name": "stdout",
     "output_type": "stream",
     "text": [
      "Shapefiles have been copied into the feature dataset.\n"
     ]
    }
   ],
   "source": [
    "# loop through each folder and copy the shapefile to the new fds\n",
    "for root, dirs, files in os.walk(shp_paths):\n",
    "    for folder in dirs:\n",
    "        folder_path = os.path.join(root, folder)\n",
    "        arcpy.env.workspace = folder_path\n",
    "        shapefiles = list_shapefiles_from_folders(folder_path)\n",
    "        for shapefile in shapefiles:\n",
    "            \n",
    "            # extract the name of the shapefile without the extension\n",
    "            name = os.path.splitext(os.path.basename(shapefile))[0]\n",
    "            \n",
    "            # remove invalid characters from name\n",
    "            name = remove(name, \"=\")\n",
    "   \n",
    "            # construct the full path of the output feature class in the geodatabase\n",
    "            out_feature_class = os.path.join(fds_path, name)\n",
    "            \n",
    "            # copy the shapefile into the geodatabase\n",
    "            arcpy.CopyFeatures_management(in_features = shapefile, \n",
    "                                          out_feature_class = out_feature_class)\n",
    "\n",
    "print(\"Shapefiles have been copied into the feature dataset.\")"
   ]
  },
  {
   "cell_type": "markdown",
   "metadata": {},
   "source": [
    "### Pull Chicago city limits layer from ArcOnline and save to data folder"
   ]
  },
  {
   "cell_type": "code",
   "execution_count": 37,
   "metadata": {},
   "outputs": [
    {
     "name": "stdout",
     "output_type": "stream",
     "text": [
      "The geodatabase chicago_boundaries.gdb has been created.\n"
     ]
    }
   ],
   "source": [
    "# set path to new gdb and create new gdb for chicago boundaries\n",
    "chicago_gdb_name = \"chicago_boundaries.gdb\"\n",
    "chicago_gdb_path = os.path.join(data_workspace, chicago_gdb_name)\n",
    "arcpy.CreateFileGDB_management(data_workspace, chicago_gdb_name)\n",
    "print(f\"The geodatabase {chicago_gdb_name} has been created.\")"
   ]
  },
  {
   "cell_type": "code",
   "execution_count": 38,
   "metadata": {},
   "outputs": [
    {
     "name": "stdout",
     "output_type": "stream",
     "text": [
      "C:\\Users\\laptop\\Desktop\\GIS_Spring_2024\\AoT_Humidity\\data\\chicago_boundaries.gdb\\chicago_city_limits.lyrx\n"
     ]
    }
   ],
   "source": [
    "# read in city of chicago layer\n",
    "layer_name = \"chicago_city_limits\"\n",
    "layer_path = \"https://services1.arcgis.com/0MSEUqKaxRlEPj5g/ArcGIS/rest/services/ChicagoCityLimits/FeatureServer/0\"\n",
    "output_layer_file = os.path.join(chicago_gdb_path, layer_name)\n",
    "\n",
    "# make the feature layer\n",
    "arcpy.MakeFeatureLayer_management(layer_path, layer_name)\n",
    "\n",
    "# save the feature layer to chicago boundaries gdb\n",
    "chicago_layer = arcpy.management.SaveToLayerFile(layer_name, output_layer_file)\n",
    "\n",
    "print(chicago_layer)"
   ]
  },
  {
   "cell_type": "markdown",
   "metadata": {},
   "source": [
    "### Interpolate humidity using inverse distance weighted interpolation and default properties"
   ]
  },
  {
   "cell_type": "code",
   "execution_count": 28,
   "metadata": {},
   "outputs": [
    {
     "name": "stdout",
     "output_type": "stream",
     "text": [
      "['week01', 'week02', 'week03', 'week04', 'week05', 'week06', 'week07', 'week08', 'week09', 'week10', 'week11', 'week12', 'week13', 'week14', 'week15', 'week16', 'week17', 'week18', 'week19', 'week20', 'week21', 'week22', 'week23', 'week24', 'week25', 'week26', 'week27', 'week28', 'week29', 'week30', 'week31', 'week32', 'week33', 'week34', 'week35', 'week36', 'week37', 'week38', 'week39', 'week40', 'week41', 'week42', 'week43', 'week44', 'week45', 'week46', 'week47', 'week48', 'week49', 'week50', 'week51', 'week52', 'week53']\n"
     ]
    }
   ],
   "source": [
    "# list all point layers\n",
    "arcpy.env.workspace = fds_path\n",
    "point_layers = arcpy.ListFeatureClasses()\n",
    "print(point_layers)"
   ]
  },
  {
   "cell_type": "code",
   "execution_count": 29,
   "metadata": {},
   "outputs": [
    {
     "name": "stdout",
     "output_type": "stream",
     "text": [
      "The geodatabase interpolated_humidity_idw_1.gdb has been created.\n"
     ]
    }
   ],
   "source": [
    "# create a new gdb for all interpolated rasters\n",
    "arcpy.env.workspace = data_workspace\n",
    "arcpy.env.overwriteOutput = True\n",
    "\n",
    "# set path to new gdb and create new gdb\n",
    "# idw_1 = inverse distance weighted interpolation using default parameters\n",
    "idw_1_gdb_name = \"interpolated_humidity_idw_1.gdb\"\n",
    "idw_1_gdb_path = os.path.join(data_workspace, idw_1_gdb_name)\n",
    "arcpy.CreateFileGDB_management(data_workspace, idw_1_gdb_name)\n",
    "print(f\"The geodatabase {idw_1_gdb_name} has been created.\")"
   ]
  },
  {
   "cell_type": "code",
   "execution_count": 41,
   "metadata": {},
   "outputs": [
    {
     "name": "stdout",
     "output_type": "stream",
     "text": [
      "C:\\Users\\laptop\\Desktop\\GIS_Spring_2024\\AoT_Humidity\\data\\chicago_boundaries.gdb\\chicago_city_limits.lyrx\n",
      "The extent has been set.\n",
      "The mask has been set.\n"
     ]
    }
   ],
   "source": [
    "# set interpolation environment parameters\n",
    "print(chicago_layer)\n",
    "\n",
    "# set interpolation environment parameters\n",
    "chicago_layer = str(chicago_layer)\n",
    "\n",
    "# set extent to chicago city limits extent\n",
    "arcpy.env.extent = chicago_layer\n",
    "\n",
    "print(\"The extent has been set.\")\n",
    "\n",
    "# set mask to chicago city limits layer\n",
    "arcpy.env.mask = chicago_layer\n",
    "\n",
    "print(\"The mask has been set.\")"
   ]
  },
  {
   "cell_type": "code",
   "execution_count": 44,
   "metadata": {},
   "outputs": [
    {
     "name": "stdout",
     "output_type": "stream",
     "text": [
      "Humidity has been interpolated.\n"
     ]
    }
   ],
   "source": [
    "# interpolate humidity by week using inverse distance weighted interpolation and default parameters\n",
    "for point_layer in point_layers:\n",
    "    # get path to each point layer\n",
    "    point_layer_path = os.path.join(fds_path, point_layer)\n",
    "    \n",
    "    # set variables for idw interpolation\n",
    "    inPointFeatures = point_layer_path\n",
    "    zField = \"avg_hmd\"\n",
    "    \n",
    "    # execulte idw\n",
    "    outIDW = Idw(inPointFeatures, zField)\n",
    "    \n",
    "    # set output path to interpolated points gdb\n",
    "    raster_name = \"{}_idw\".format(os.path.splitext(point_layer)[0])\n",
    "    output_path = os.path.join(idw_1_gdb_path, raster_name)\n",
    "\n",
    "    # save idw raster\n",
    "    outIDW.save(output_path)\n",
    "    \n",
    "print(\"Humidity has been interpolated.\")"
   ]
  },
  {
   "cell_type": "markdown",
   "metadata": {},
   "source": [
    "### Identify range of interpolated humidity values for raster symbology"
   ]
  },
  {
   "cell_type": "code",
   "execution_count": 45,
   "metadata": {},
   "outputs": [
    {
     "name": "stdout",
     "output_type": "stream",
     "text": [
      "['week01_idw', 'week02_idw', 'week03_idw', 'week04_idw', 'week05_idw', 'week06_idw', 'week07_idw', 'week08_idw', 'week09_idw', 'week10_idw', 'week11_idw', 'week12_idw', 'week13_idw', 'week14_idw', 'week15_idw', 'week16_idw', 'week17_idw', 'week18_idw', 'week19_idw', 'week20_idw', 'week21_idw', 'week22_idw', 'week23_idw', 'week24_idw', 'week25_idw', 'week26_idw', 'week27_idw', 'week28_idw', 'week29_idw', 'week30_idw', 'week31_idw', 'week32_idw', 'week33_idw', 'week34_idw', 'week35_idw', 'week36_idw', 'week37_idw', 'week38_idw', 'week39_idw', 'week40_idw', 'week41_idw', 'week42_idw', 'week43_idw', 'week44_idw', 'week45_idw', 'week46_idw', 'week47_idw', 'week48_idw', 'week49_idw', 'week50_idw', 'week51_idw', 'week52_idw', 'week53_idw']\n"
     ]
    }
   ],
   "source": [
    "# list all rasters in interpolated humidity gdb\n",
    "arcpy.env.workspace = idw_1_gdb_path\n",
    "interpolated_rasters = arcpy.ListRasters()\n",
    "\n",
    "# set workspace back to data workspace\n",
    "arcpy.env.workspace = data_workspace\n",
    "\n",
    "print(interpolated_rasters)"
   ]
  },
  {
   "cell_type": "code",
   "execution_count": 46,
   "metadata": {},
   "outputs": [],
   "source": [
    "# get maximum and minimum raster value\n",
    "\n",
    "# set empty vectors to collect max and min values\n",
    "max_values = []\n",
    "min_values = []\n",
    "\n",
    "for interpolated_raster in interpolated_rasters:\n",
    "    raster_path = os.path.join(idw_1_gdb_path, interpolated_raster)\n",
    "      \n",
    "    # get maximum value\n",
    "    max_value = arcpy.GetRasterProperties_management(raster_path, \"MAXIMUM\")\n",
    "    max_value = float(max_value.getOutput(0))\n",
    "    max_values.append(max_value)\n",
    "    \n",
    "    # get minimum value\n",
    "    min_value = arcpy.GetRasterProperties_management(raster_path, \"MINIMUM\")\n",
    "    min_value = float(min_value.getOutput(0))\n",
    "    min_values.append(min_value)"
   ]
  },
  {
   "cell_type": "code",
   "execution_count": 47,
   "metadata": {},
   "outputs": [
    {
     "data": {
      "image/png": "[encoded data removed]",
      "text/plain": [
       "<Figure size 640x480 with 1 Axes>"
      ]
     },
     "metadata": {},
     "output_type": "display_data"
    }
   ],
   "source": [
    "# display max values across rasters\n",
    "max_values_df = pd.DataFrame(max_values)\n",
    "max_values_df.hist(bins = 20)\n",
    "plt.show()"
   ]
  },
  {
   "cell_type": "code",
   "execution_count": 48,
   "metadata": {},
   "outputs": [
    {
     "data": {
      "image/png": "[encoded data removed]",
      "text/plain": [
       "<Figure size 640x480 with 1 Axes>"
      ]
     },
     "metadata": {},
     "output_type": "display_data"
    }
   ],
   "source": [
    "# display min values across rasters\n",
    "min_values_df = pd.DataFrame(min_values)\n",
    "min_values_df.hist(bins = 20)\n",
    "plt.show()"
   ]
  },
  {
   "cell_type": "markdown",
   "metadata": {},
   "source": [
    "### Create multidimensional mosaic dataset"
   ]
  },
  {
   "cell_type": "code",
   "execution_count": null,
   "metadata": {},
   "outputs": [],
   "source": []
  }
 ],
 "metadata": {
  "kernelspec": {
   "display_name": "ArcGISPro",
   "language": "Python",
   "name": "python3"
  },
  "language_info": {
   "file_extension": ".py",
   "name": "python",
   "version": "3"
  }
 },
 "nbformat": 4,
 "nbformat_minor": 2
}
